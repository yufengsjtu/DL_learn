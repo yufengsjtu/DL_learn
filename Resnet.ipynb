{
  "nbformat": 4,
  "nbformat_minor": 0,
  "metadata": {
    "colab": {
      "provenance": [],
      "authorship_tag": "ABX9TyPnlNf/biB8d3YWIpPuIJl7",
      "include_colab_link": true
    },
    "kernelspec": {
      "name": "python3",
      "display_name": "Python 3"
    },
    "language_info": {
      "name": "python"
    },
    "accelerator": "GPU",
    "gpuClass": "standard"
  },
  "cells": [
    {
      "cell_type": "markdown",
      "metadata": {
        "id": "view-in-github",
        "colab_type": "text"
      },
      "source": [
        "<a href=\"https://colab.research.google.com/github/yufengsjtu/DL_learn/blob/main/Resnet.ipynb\" target=\"_parent\"><img src=\"https://colab.research.google.com/assets/colab-badge.svg\" alt=\"Open In Colab\"/></a>"
      ]
    },
    {
      "cell_type": "code",
      "execution_count": 11,
      "metadata": {
        "id": "jVkd7xUPhAr3"
      },
      "outputs": [],
      "source": [
        "import torch\n",
        "from torch import nn\n",
        "import numpy as np\n",
        "\n",
        "def accuracy(y_hat, y): \n",
        "    \"\"\"计算预测正确的数量\"\"\"\n",
        "    if len(y_hat.shape) > 1 and y_hat.shape[1] > 1:\n",
        "        y_hat = y_hat.argmax(axis=1)\n",
        "    cmp = y_hat.type(y.dtype) == y\n",
        "    return float(cmp.type(y.dtype).sum())\n",
        "class Accumulator:\n",
        "    \"\"\"在n个变量上累加\"\"\"\n",
        "    def __init__(self, n):\n",
        "        self.data = [0.0] * n\n",
        "\n",
        "    def add(self, *args):\n",
        "        self.data = [a + float(b) for a, b in zip(self.data, args)]\n",
        "\n",
        "    def reset(self):\n",
        "        self.data = [0.0] * len(self.data)\n",
        "\n",
        "    def __getitem__(self, idx):\n",
        "        return self.data[idx]\n",
        "def evaluate_accuracy_gpu(net,data_iter,device=None):\n",
        "  if isinstance(net,torch.nn.Module):\n",
        "    net.eval()\n",
        "    if not device:\n",
        "      device = next(iter(net.parameters())).device\n",
        "  metric = Accumulator(2)\n",
        "  for X,y in data_iter:\n",
        "    if isinstance(X,list):\n",
        "      X = [x.to(device) for x in X]\n",
        "    else:\n",
        "      X = X.to(device)\n",
        "    y = y.to(device)\n",
        "    metric.add(accuracy(net(X),y),y.numel())\n",
        "  return metric[0]/metric[1]\n",
        "\n",
        "import torchvision\n",
        "from torch.utils import data\n",
        "from torchvision import transforms\n",
        "batch_size = 256\n",
        "def load_fashion_minst_dataset(batch_size,resize=None):\n",
        "  trans = [transforms.ToTensor()]\n",
        "  if resize:\n",
        "    trans.insert(0, transforms.Resize(resize))\n",
        "  trans = transforms.Compose(trans)\n",
        "  mnist_train = torchvision.datasets.FashionMNIST(\n",
        "        root=\"./sample_data\", train=True, transform=trans, download=True)\n",
        "  mnist_test = torchvision.datasets.FashionMNIST(\n",
        "        root=\"./sample_data\", train=False, transform=trans, download=True)\n",
        "  return (data.DataLoader(mnist_train, batch_size, shuffle=True,num_workers=4),\n",
        "      data.DataLoader(mnist_test, batch_size, shuffle=False,num_workers=4))\n",
        "  \n",
        "import matplotlib.pyplot as plt\n",
        "def train(net,train_iter,test_iter,num_epochs,lr,device):\n",
        "  def init_weights(m):\n",
        "    if type(m) == nn.Linear or type(m) == nn.Conv2d:\n",
        "      nn.init.xavier_normal_(m.weight)\n",
        "  net.apply(init_weights)\n",
        "  net.to(device)\n",
        "  print('training on：\\t',device)\n",
        "  optimizer = torch.optim.SGD(net.parameters(),lr=lr)\n",
        "  loss = nn.CrossEntropyLoss()\n",
        "  train_loss_display = []\n",
        "  train_acc_display = []\n",
        "  test_acc_display = []\n",
        "  train_index = []\n",
        "  test_index = []\n",
        "  num_batches = len(train_iter)\n",
        "  for epoch in range(num_epochs):\n",
        "    metric = Accumulator(3)\n",
        "    net.train()\n",
        "    for i,(X,y) in enumerate(train_iter):\n",
        "      optimizer.zero_grad()\n",
        "      X,y = X.to(device),y.to(device)\n",
        "      y_hat = net(X)\n",
        "      l = loss(y_hat,y)\n",
        "      l.backward()\n",
        "      optimizer.step()\n",
        "      metric.add(l * X.shape[0],accuracy(y_hat,y),X.shape[0])\n",
        "      train_l = metric[0] / metric[2]\n",
        "      train_acc = metric[1] / metric[2]\n",
        "      train_loss_display.append(train_l)\n",
        "      train_acc_display.append(train_acc)\n",
        "      train_index.append(epoch + (i + 1) / num_batches)\n",
        "    test_acc = evaluate_accuracy_gpu(net,test_iter)\n",
        "    test_acc_display.append(test_acc)\n",
        "    test_index.append(epoch + 1)\n",
        "  plt.plot(train_index,train_loss_display,color='red',label='train loss')\n",
        "  plt.plot(train_index,train_acc_display,color='green',label='train acc')\n",
        "  plt.plot(test_index,test_acc_display,color='black',label='test acc')\n",
        "  plt.legend(loc='upper right')\n",
        "  plt.show()\n",
        "  print(f'loss {train_l:.3f}, train acc {train_acc:.3f}, 'f'test acc {test_acc:.3f}')\n",
        "\n",
        "lr = 0.9\n",
        "num_epochs = 10\n",
        "train_iter,test_iter = load_fashion_minst_dataset(batch_size,96)\n",
        "def try_gpu(i=0):\n",
        "    \"\"\"如果存在，则返回gpu(i)，否则返回cpu()\"\"\"\n",
        "    if torch.cuda.device_count() >= i + 1:\n",
        "        return torch.device(f'cuda:{i}')\n",
        "    return torch.device('cpu')"
      ]
    },
    {
      "cell_type": "code",
      "source": [
        "from torch.nn import functional as F\n",
        "class Residual(nn.Module):\n",
        "  def __init__(self,input_channels,out_channels,use_1x1conv=False,strides=1):\n",
        "    super().__init__()\n",
        "    self.conv1 = nn.Conv2d(input_channels,out_channels,kernel_size=3,padding=1,stride=strides)\n",
        "    self.conv2 = nn.Conv2d(out_channels,out_channels,kernel_size=3,padding=1)\n",
        "    if use_1x1conv:\n",
        "      self.conv3 = nn.Conv2d(input_channels,out_channels,kernel_size=1,stride=strides)\n",
        "    else:\n",
        "      self.conv3=None\n",
        "    self.bn1 = nn.BatchNorm2d(out_channels)\n",
        "    self.bn2 = nn.BatchNorm2d(out_channels)\n",
        "  \n",
        "  def forward(self,X):\n",
        "    Y = F.relu(self.bn1(self.conv1(X)))\n",
        "    Y = self.bn2(self.conv2(Y))\n",
        "    if self.conv3:\n",
        "      X = self.conv3(X)\n",
        "    Y += X\n",
        "    return F.relu(Y)\n",
        "# import torch\n",
        "# from torch import nn\n",
        "# from torch.nn import functional as F\n",
        "\n",
        "# class Residual(nn.Module):\n",
        "#     def __init__(self, input_channels, num_channels,\n",
        "#                  use_1x1conv=False, strides=1):\n",
        "#         super().__init__()\n",
        "#         self.conv1 = nn.Conv2d(input_channels, num_channels,\n",
        "#                                kernel_size=3, padding=1, stride=strides)\n",
        "#         self.conv2 = nn.Conv2d(num_channels, num_channels,\n",
        "#                                kernel_size=3, padding=1)\n",
        "#         if use_1x1conv:\n",
        "#             self.conv3 = nn.Conv2d(input_channels, num_channels,\n",
        "#                                    kernel_size=1, stride=strides)\n",
        "#         else:\n",
        "#             self.conv3 = None\n",
        "#         self.bn1 = nn.BatchNorm2d(num_channels)\n",
        "#         self.bn2 = nn.BatchNorm2d(num_channels)\n",
        "\n",
        "#     def forward(self, X):\n",
        "#         Y = F.relu(self.bn1(self.conv1(X)))\n",
        "#         Y = self.bn2(self.conv2(Y))\n",
        "#         if self.conv3:\n",
        "#             X = self.conv3(X)\n",
        "#         Y += X\n",
        "#         return F.relu(Y)"
      ],
      "metadata": {
        "id": "FBBTJamLhN3D"
      },
      "execution_count": 26,
      "outputs": []
    },
    {
      "cell_type": "code",
      "source": [
        "b1 = nn.Sequential(nn.Conv2d(1, 64, kernel_size=7, stride=2, padding=3),\n",
        "          nn.BatchNorm2d(64), nn.ReLU(),\n",
        "          nn.MaxPool2d(kernel_size=3, stride=2, padding=1)\n",
        "          )"
      ],
      "metadata": {
        "id": "v9N8Ij7IjWEU"
      },
      "execution_count": 27,
      "outputs": []
    },
    {
      "cell_type": "code",
      "source": [
        "def resnet_block(input_channels, num_channels, num_residuals, first_block=False):\n",
        "  blk = []\n",
        "  for i in range(num_residuals):\n",
        "    if i == 0 and not first_block:\n",
        "      blk.append(Residual(input_channels, num_channels, use_1x1conv=True, strides=2))\n",
        "    else:\n",
        "      blk.append(Residual(num_channels, num_channels))\n",
        "  return blk\n",
        "b2 = nn.Sequential(*resnet_block(64, 64, 2, first_block=True))\n",
        "b3 = nn.Sequential(*resnet_block(64, 128, 2))\n",
        "b4 = nn.Sequential(*resnet_block(128, 256, 2))\n",
        "b5 = nn.Sequential(*resnet_block(256, 512, 2))\n",
        "net = nn.Sequential(b1, b2, b3, b4, b5, nn.AdaptiveAvgPool2d((1,1)), nn.Flatten(), nn.Linear(512, 10))"
      ],
      "metadata": {
        "id": "vzT7_ZHzjrjp"
      },
      "execution_count": 28,
      "outputs": []
    },
    {
      "cell_type": "code",
      "source": [
        "lr, num_epochs, batch_size = 0.05, 10, 256\n",
        "train(net, train_iter, test_iter, num_epochs, lr, try_gpu())"
      ],
      "metadata": {
        "colab": {
          "base_uri": "https://localhost:8080/",
          "height": 357
        },
        "id": "PGZGnxjClKDg",
        "outputId": "47faf819-e66f-4557-b86f-ca205c22d5e9"
      },
      "execution_count": 29,
      "outputs": [
        {
          "output_type": "stream",
          "name": "stdout",
          "text": [
            "training on：\t cuda:0\n"
          ]
        },
        {
          "output_type": "stream",
          "name": "stderr",
          "text": [
            "/usr/local/lib/python3.8/dist-packages/torch/utils/data/dataloader.py:554: UserWarning: This DataLoader will create 4 worker processes in total. Our suggested max number of worker in current system is 2, which is smaller than what this DataLoader is going to create. Please be aware that excessive worker creation might get DataLoader running slow or even freeze, lower the worker number to avoid potential slowness/freeze if necessary.\n",
            "  warnings.warn(_create_warning_msg(\n"
          ]
        },
        {
          "output_type": "display_data",
          "data": {
            "text/plain": [
              "<Figure size 432x288 with 1 Axes>"
            ],
            "image/png": "[encoded data removed]"
          },
          "metadata": {
            "needs_background": "light"
          }
        },
        {
          "output_type": "stream",
          "name": "stdout",
          "text": [
            "loss 0.013, train acc 0.997, test acc 0.917\n"
          ]
        }
      ]
    },
    {
      "cell_type": "code",
      "source": [],
      "metadata": {
        "id": "n7H_e1nPlaC1"
      },
      "execution_count": null,
      "outputs": []
    }
  ]
}