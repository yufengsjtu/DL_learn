{
  "nbformat": 4,
  "nbformat_minor": 0,
  "metadata": {
    "colab": {
      "provenance": [],
      "authorship_tag": "ABX9TyPUYcwaVsrPrARJ3/KmGCrT",
      "include_colab_link": true
    },
    "kernelspec": {
      "name": "python3",
      "display_name": "Python 3"
    },
    "language_info": {
      "name": "python"
    },
    "accelerator": "GPU",
    "gpuClass": "standard"
  },
  "cells": [
    {
      "cell_type": "markdown",
      "metadata": {
        "id": "view-in-github",
        "colab_type": "text"
      },
      "source": [
        "<a href=\"https://colab.research.google.com/github/yufengsjtu/DL_learn/blob/main/LeNetBN.ipynb\" target=\"_parent\"><img src=\"https://colab.research.google.com/assets/colab-badge.svg\" alt=\"Open In Colab\"/></a>"
      ]
    },
    {
      "cell_type": "code",
      "execution_count": 6,
      "metadata": {
        "id": "PbhL0agyRb5E"
      },
      "outputs": [],
      "source": [
        "import torch\n",
        "from torch import nn\n",
        "import numpy as np\n",
        "\n",
        "def accuracy(y_hat, y): \n",
        "    \"\"\"计算预测正确的数量\"\"\"\n",
        "    if len(y_hat.shape) > 1 and y_hat.shape[1] > 1:\n",
        "        y_hat = y_hat.argmax(axis=1)\n",
        "    cmp = y_hat.type(y.dtype) == y\n",
        "    return float(cmp.type(y.dtype).sum())\n",
        "class Accumulator:\n",
        "    \"\"\"在n个变量上累加\"\"\"\n",
        "    def __init__(self, n):\n",
        "        self.data = [0.0] * n\n",
        "\n",
        "    def add(self, *args):\n",
        "        self.data = [a + float(b) for a, b in zip(self.data, args)]\n",
        "\n",
        "    def reset(self):\n",
        "        self.data = [0.0] * len(self.data)\n",
        "\n",
        "    def __getitem__(self, idx):\n",
        "        return self.data[idx]\n",
        "def evaluate_accuracy_gpu(net,data_iter,device=None):\n",
        "  if isinstance(net,torch.nn.Module):\n",
        "    net.eval()\n",
        "    if not device:\n",
        "      device = next(iter(net.parameters())).device\n",
        "  metric = Accumulator(2)\n",
        "  for X,y in data_iter:\n",
        "    if isinstance(X,list):\n",
        "      X = [x.to(device) for x in X]\n",
        "    else:\n",
        "      X = X.to(device)\n",
        "    y = y.to(device)\n",
        "    metric.add(accuracy(net(X),y),y.numel())\n",
        "  return metric[0]/metric[1]\n",
        "\n",
        "import torchvision\n",
        "from torch.utils import data\n",
        "from torchvision import transforms\n",
        "batch_size = 256\n",
        "def load_fashion_minst_dataset(batch_size,resize=None):\n",
        "  trans = [transforms.ToTensor()]\n",
        "  if resize:\n",
        "    trans.insert(0, transforms.Resize(resize))\n",
        "  trans = transforms.Compose(trans)\n",
        "  mnist_train = torchvision.datasets.FashionMNIST(\n",
        "        root=\"./sample_data\", train=True, transform=trans, download=True)\n",
        "  mnist_test = torchvision.datasets.FashionMNIST(\n",
        "        root=\"./sample_data\", train=False, transform=trans, download=True)\n",
        "  return (data.DataLoader(mnist_train, batch_size, shuffle=True,num_workers=4),\n",
        "      data.DataLoader(mnist_test, batch_size, shuffle=False,num_workers=4))\n",
        "  \n",
        "import matplotlib.pyplot as plt\n",
        "def train(net,train_iter,test_iter,num_epochs,lr,device):\n",
        "  def init_weights(m):\n",
        "    if type(m) == nn.Linear or type(m) == nn.Conv2d:\n",
        "      nn.init.xavier_normal_(m.weight)\n",
        "  net.apply(init_weights)\n",
        "  net.to(device)\n",
        "  print('training on：\\t',device)\n",
        "  optimizer = torch.optim.SGD(net.parameters(),lr=lr)\n",
        "  loss = nn.CrossEntropyLoss()\n",
        "  train_loss_display = []\n",
        "  train_acc_display = []\n",
        "  test_acc_display = []\n",
        "  train_index = []\n",
        "  test_index = []\n",
        "  num_batches = len(train_iter)\n",
        "  for epoch in range(num_epochs):\n",
        "    metric = Accumulator(3)\n",
        "    net.train()\n",
        "    for i,(X,y) in enumerate(train_iter):\n",
        "      optimizer.zero_grad()\n",
        "      X,y = X.to(device),y.to(device)\n",
        "      y_hat = net(X)\n",
        "      l = loss(y_hat,y)\n",
        "      l.backward()\n",
        "      optimizer.step()\n",
        "      metric.add(l * X.shape[0],accuracy(y_hat,y),X.shape[0])\n",
        "      train_l = metric[0] / metric[2]\n",
        "      train_acc = metric[1] / metric[2]\n",
        "      train_loss_display.append(train_l)\n",
        "      train_acc_display.append(train_acc)\n",
        "      train_index.append(epoch + (i + 1) / num_batches)\n",
        "    test_acc = evaluate_accuracy_gpu(net,test_iter)\n",
        "    test_acc_display.append(test_acc)\n",
        "    test_index.append(epoch + 1)\n",
        "  plt.plot(train_index,train_loss_display,color='red',label='train loss')\n",
        "  plt.plot(train_index,train_acc_display,color='green',label='train acc')\n",
        "  plt.plot(test_index,test_acc_display,color='black',label='test acc')\n",
        "  plt.legend(loc='upper right')\n",
        "  plt.show()\n",
        "  print(f'loss {train_l:.3f}, train acc {train_acc:.3f}, 'f'test acc {test_acc:.3f}')\n",
        "\n",
        "lr = 0.9\n",
        "num_epochs = 10\n",
        "train_iter,test_iter = load_fashion_minst_dataset(batch_size)\n",
        "def try_gpu(i=0):\n",
        "    \"\"\"如果存在，则返回gpu(i)，否则返回cpu()\"\"\"\n",
        "    if torch.cuda.device_count() >= i + 1:\n",
        "        return torch.device(f'cuda:{i}')\n",
        "    return torch.device('cpu')"
      ]
    },
    {
      "cell_type": "code",
      "source": [
        "class BatchNorm(nn.Module):\n",
        "  def __init__(self,num_features,num_dim):\n",
        "    super().__init__()\n",
        "    if num_dim == 2:                 #full connect\n",
        "      shape = (1,num_features)\n",
        "    elif num_dim == 4:\n",
        "      shape = (1,num_features,1,1)\n",
        "    else:\n",
        "      assert (num_dim==2 or num_dim==4),f'para num_dim wrongly set'\n",
        "    self.gamma = nn.Parameter(torch.ones(shape))\n",
        "    self.beta = nn.Parameter(torch.zeros(shape))\n",
        "    self.moving_mean = torch.zeros(shape)\n",
        "    self.moving_var = torch.ones(shape)\n",
        "\n",
        "  def forward(self,X):\n",
        "    # 如果X不在内存上，将moving_mean和moving_var\n",
        "    # 复制到X所在显存上\n",
        "    if self.moving_mean.device != X.device:\n",
        "      self.moving_mean = self.moving_mean.to(X.device)\n",
        "      self.moving_var = self.moving_var.to(X.device)\n",
        "    # 保存更新过的moving_mean和moving_var\n",
        "    Y, self.moving_mean, self.moving_var = self.batch_norm(\n",
        "        X, self.gamma, self.beta, self.moving_mean, self.moving_var, eps=1e-5, momentum=0.9\n",
        "        )\n",
        "    return Y\n",
        "     \n",
        "  def batch_norm(self,X,gamma,beta,moving_mean,moving_var,eps,momentum):\n",
        "    if not torch.is_grad_enabled:\n",
        "      X_hat = (X - moving_mean) / torch.sqrt( moving_var + eps )\n",
        "    else:\n",
        "      assert len(X.shape) in (2,4)\n",
        "      if len(X.shape) == 2:\n",
        "        mean = X.mean(dim=0)\n",
        "        var = ((X - mean)**2).mean(dim=0)\n",
        "      else:\n",
        "        mean = X.mean(dim=(0,2,3),keepdim=True)\n",
        "        var = ((X - mean)**2).mean(dim=(0,2,3),keepdim=True)\n",
        "      X_hat = (X - mean) / torch.sqrt( var + eps )\n",
        "      moving_mean = momentum * moving_mean + (1.0 - momentum) * mean\n",
        "      moving_var = momentum * moving_var + (1.0 - momentum) * var\n",
        "    Y = gamma * X_hat + beta\n",
        "    return Y,moving_mean.data,moving_var.data"
      ],
      "metadata": {
        "id": "jgZGmkEyRyea"
      },
      "execution_count": 2,
      "outputs": []
    },
    {
      "cell_type": "code",
      "source": [
        "net = nn.Sequential(\n",
        "    nn.Conv2d(1, 6, kernel_size=5), BatchNorm(6, num_dim=4), nn.Sigmoid(),\n",
        "    nn.AvgPool2d(kernel_size=2, stride=2),\n",
        "    nn.Conv2d(6, 16, kernel_size=5), BatchNorm(16, num_dim=4), nn.Sigmoid(),\n",
        "    nn.AvgPool2d(kernel_size=2, stride=2), nn.Flatten(),\n",
        "    nn.Linear(16*4*4, 120), BatchNorm(120, num_dim=2), nn.Sigmoid(),\n",
        "    nn.Linear(120, 84), BatchNorm(84, num_dim=2), nn.Sigmoid(),\n",
        "    nn.Linear(84, 10))"
      ],
      "metadata": {
        "id": "RomT8y02emO0"
      },
      "execution_count": 7,
      "outputs": []
    },
    {
      "cell_type": "code",
      "source": [
        "lr, num_epochs, batch_size = 1.0, 10, 256\n",
        "train(net, train_iter, test_iter, num_epochs, lr, try_gpu())"
      ],
      "metadata": {
        "colab": {
          "base_uri": "https://localhost:8080/",
          "height": 301
        },
        "id": "OdptgaV4fMYk",
        "outputId": "24fcdeba-22e5-4e0d-fe65-74ee2e604cf2"
      },
      "execution_count": 8,
      "outputs": [
        {
          "output_type": "stream",
          "name": "stdout",
          "text": [
            "training on：\t cuda:0\n"
          ]
        },
        {
          "output_type": "display_data",
          "data": {
            "text/plain": [
              "<Figure size 432x288 with 1 Axes>"
            ],
            "image/png": "[encoded data removed]"
          },
          "metadata": {
            "needs_background": "light"
          }
        },
        {
          "output_type": "stream",
          "name": "stdout",
          "text": [
            "loss 0.267, train acc 0.902, test acc 0.854\n"
          ]
        }
      ]
    },
    {
      "cell_type": "code",
      "source": [],
      "metadata": {
        "id": "wBbp4TSqfYeO"
      },
      "execution_count": null,
      "outputs": []
    }
  ]
}